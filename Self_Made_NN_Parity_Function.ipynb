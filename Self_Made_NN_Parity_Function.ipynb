{
  "nbformat": 4,
  "nbformat_minor": 0,
  "metadata": {
    "colab": {
      "name": "Self-Made NN Parity Function.ipynb",
      "provenance": [],
      "collapsed_sections": []
    },
    "kernelspec": {
      "name": "python3",
      "display_name": "Python 3"
    },
    "language_info": {
      "name": "python"
    }
  },
  "cells": [
    {
      "cell_type": "markdown",
      "metadata": {
        "id": "oOD7l4WWRLbs"
      },
      "source": [
        "### SRIJAN BHUSHAN MDS202039\n",
        "### ANUJA PAL MDS202006"
      ]
    },
    {
      "cell_type": "markdown",
      "metadata": {
        "id": "Gl2xDlEWaoe1"
      },
      "source": [
        "Importing the packages required:"
      ]
    },
    {
      "cell_type": "code",
      "metadata": {
        "id": "T1WmMl1dslVJ"
      },
      "source": [
        "import numpy as np\n",
        "import pandas as pd"
      ],
      "execution_count": null,
      "outputs": []
    },
    {
      "cell_type": "markdown",
      "metadata": {
        "id": "BTIGs7Uwar_V"
      },
      "source": [
        "original_parity takes in an array as an input and returns 1 if number of -1's is even, and 0 otherwise."
      ]
    },
    {
      "cell_type": "code",
      "metadata": {
        "id": "ZnxXUZDqspFI"
      },
      "source": [
        "# function in which we are trying to predict\n",
        "\n",
        "# True / 1 means parity is even\n",
        "# False / 0 means parity is odd\n",
        "def original_parity(arr):\n",
        "  \"\"\"\n",
        "  input: np.array (consisting of 1 or -1 as elements)\n",
        "  output: boolean\n",
        "\n",
        "  **ASSUMED: input length always even**\n",
        "\n",
        "  return True / 1 if number of -1s is even\n",
        "  return False / 0 if number of -1s is odd\n",
        "  \"\"\"\n",
        "  return int(arr.prod() == 1)"
      ],
      "execution_count": null,
      "outputs": []
    },
    {
      "cell_type": "markdown",
      "metadata": {
        "id": "AQmOKoYNa5mO"
      },
      "source": [
        "data_gen is simply to help us create a data-frame where we will have 'n' columns, the 'i'th column gives us the value of the 'i'th component of the vector.\n",
        "The last column will be the label i.e. if parity is even -> 1, if parity is odd -> 0."
      ]
    },
    {
      "cell_type": "code",
      "metadata": {
        "id": "eP2OxT4WspXm"
      },
      "source": [
        "def data_gen(n_vectors, vector_len=64):\n",
        "  assert vector_len%2 == 0\n",
        "  \"\"\"\n",
        "  input: n_vectors (int), vector_len (int)\n",
        "  output: pd dataframe\n",
        "\n",
        "  returns a dataframe with columns as entries in i^{th} position of a supposed array\n",
        "  and an extra column 'y' which returns the orginal_parity() output of the supposed array\n",
        "  as input.\n",
        "  \"\"\"\n",
        "\n",
        "  #list of vectors\n",
        "  data = []\n",
        "\n",
        "  #list of outputs\n",
        "  outp = []\n",
        "\n",
        "  # generation\n",
        "  for i in range(n_vectors):\n",
        "    generated_vector = np.random.choice([-1,1], size=vector_len)\n",
        "    obtained_parity = original_parity(generated_vector)\n",
        "    data.append(generated_vector)\n",
        "    outp.append(obtained_parity)\n",
        "  \n",
        "  # convert to np array for easier use\n",
        "  data = np.array(data)\n",
        "\n",
        "  # dataframe creation\n",
        "  df_dict = {\n",
        "      'x'+str(i):data[:,i] for i in range(vector_len)\n",
        "  }\n",
        "  df_dict['y'] = outp\n",
        "\n",
        "  # return dataframe\n",
        "  return pd.DataFrame(df_dict)\n",
        "  \n"
      ],
      "execution_count": null,
      "outputs": []
    },
    {
      "cell_type": "code",
      "metadata": {
        "colab": {
          "base_uri": "https://localhost:8080/",
          "height": 520
        },
        "id": "xhKKYFojspg3",
        "outputId": "40debf74-21f2-41f1-b911-8a0d22a8c81e"
      },
      "source": [
        "# small test contributing towards correctness\n",
        "data_gen(15, 6)"
      ],
      "execution_count": null,
      "outputs": [
        {
          "output_type": "execute_result",
          "data": {
            "text/html": [
              "<div>\n",
              "<style scoped>\n",
              "    .dataframe tbody tr th:only-of-type {\n",
              "        vertical-align: middle;\n",
              "    }\n",
              "\n",
              "    .dataframe tbody tr th {\n",
              "        vertical-align: top;\n",
              "    }\n",
              "\n",
              "    .dataframe thead th {\n",
              "        text-align: right;\n",
              "    }\n",
              "</style>\n",
              "<table border=\"1\" class=\"dataframe\">\n",
              "  <thead>\n",
              "    <tr style=\"text-align: right;\">\n",
              "      <th></th>\n",
              "      <th>x0</th>\n",
              "      <th>x1</th>\n",
              "      <th>x2</th>\n",
              "      <th>x3</th>\n",
              "      <th>x4</th>\n",
              "      <th>x5</th>\n",
              "      <th>y</th>\n",
              "    </tr>\n",
              "  </thead>\n",
              "  <tbody>\n",
              "    <tr>\n",
              "      <th>0</th>\n",
              "      <td>-1</td>\n",
              "      <td>-1</td>\n",
              "      <td>1</td>\n",
              "      <td>-1</td>\n",
              "      <td>1</td>\n",
              "      <td>1</td>\n",
              "      <td>0</td>\n",
              "    </tr>\n",
              "    <tr>\n",
              "      <th>1</th>\n",
              "      <td>-1</td>\n",
              "      <td>1</td>\n",
              "      <td>1</td>\n",
              "      <td>-1</td>\n",
              "      <td>1</td>\n",
              "      <td>1</td>\n",
              "      <td>1</td>\n",
              "    </tr>\n",
              "    <tr>\n",
              "      <th>2</th>\n",
              "      <td>1</td>\n",
              "      <td>-1</td>\n",
              "      <td>1</td>\n",
              "      <td>-1</td>\n",
              "      <td>1</td>\n",
              "      <td>-1</td>\n",
              "      <td>0</td>\n",
              "    </tr>\n",
              "    <tr>\n",
              "      <th>3</th>\n",
              "      <td>1</td>\n",
              "      <td>1</td>\n",
              "      <td>1</td>\n",
              "      <td>-1</td>\n",
              "      <td>1</td>\n",
              "      <td>1</td>\n",
              "      <td>0</td>\n",
              "    </tr>\n",
              "    <tr>\n",
              "      <th>4</th>\n",
              "      <td>-1</td>\n",
              "      <td>1</td>\n",
              "      <td>-1</td>\n",
              "      <td>1</td>\n",
              "      <td>1</td>\n",
              "      <td>1</td>\n",
              "      <td>1</td>\n",
              "    </tr>\n",
              "    <tr>\n",
              "      <th>5</th>\n",
              "      <td>1</td>\n",
              "      <td>-1</td>\n",
              "      <td>1</td>\n",
              "      <td>1</td>\n",
              "      <td>-1</td>\n",
              "      <td>1</td>\n",
              "      <td>1</td>\n",
              "    </tr>\n",
              "    <tr>\n",
              "      <th>6</th>\n",
              "      <td>-1</td>\n",
              "      <td>-1</td>\n",
              "      <td>1</td>\n",
              "      <td>1</td>\n",
              "      <td>1</td>\n",
              "      <td>1</td>\n",
              "      <td>1</td>\n",
              "    </tr>\n",
              "    <tr>\n",
              "      <th>7</th>\n",
              "      <td>-1</td>\n",
              "      <td>1</td>\n",
              "      <td>1</td>\n",
              "      <td>1</td>\n",
              "      <td>-1</td>\n",
              "      <td>-1</td>\n",
              "      <td>0</td>\n",
              "    </tr>\n",
              "    <tr>\n",
              "      <th>8</th>\n",
              "      <td>-1</td>\n",
              "      <td>-1</td>\n",
              "      <td>-1</td>\n",
              "      <td>-1</td>\n",
              "      <td>1</td>\n",
              "      <td>-1</td>\n",
              "      <td>0</td>\n",
              "    </tr>\n",
              "    <tr>\n",
              "      <th>9</th>\n",
              "      <td>-1</td>\n",
              "      <td>-1</td>\n",
              "      <td>-1</td>\n",
              "      <td>-1</td>\n",
              "      <td>1</td>\n",
              "      <td>-1</td>\n",
              "      <td>0</td>\n",
              "    </tr>\n",
              "    <tr>\n",
              "      <th>10</th>\n",
              "      <td>-1</td>\n",
              "      <td>1</td>\n",
              "      <td>1</td>\n",
              "      <td>1</td>\n",
              "      <td>-1</td>\n",
              "      <td>1</td>\n",
              "      <td>1</td>\n",
              "    </tr>\n",
              "    <tr>\n",
              "      <th>11</th>\n",
              "      <td>1</td>\n",
              "      <td>1</td>\n",
              "      <td>1</td>\n",
              "      <td>-1</td>\n",
              "      <td>1</td>\n",
              "      <td>-1</td>\n",
              "      <td>1</td>\n",
              "    </tr>\n",
              "    <tr>\n",
              "      <th>12</th>\n",
              "      <td>1</td>\n",
              "      <td>-1</td>\n",
              "      <td>1</td>\n",
              "      <td>-1</td>\n",
              "      <td>-1</td>\n",
              "      <td>1</td>\n",
              "      <td>0</td>\n",
              "    </tr>\n",
              "    <tr>\n",
              "      <th>13</th>\n",
              "      <td>1</td>\n",
              "      <td>-1</td>\n",
              "      <td>1</td>\n",
              "      <td>-1</td>\n",
              "      <td>-1</td>\n",
              "      <td>-1</td>\n",
              "      <td>1</td>\n",
              "    </tr>\n",
              "    <tr>\n",
              "      <th>14</th>\n",
              "      <td>1</td>\n",
              "      <td>1</td>\n",
              "      <td>-1</td>\n",
              "      <td>1</td>\n",
              "      <td>1</td>\n",
              "      <td>-1</td>\n",
              "      <td>1</td>\n",
              "    </tr>\n",
              "  </tbody>\n",
              "</table>\n",
              "</div>"
            ],
            "text/plain": [
              "    x0  x1  x2  x3  x4  x5  y\n",
              "0   -1  -1   1  -1   1   1  0\n",
              "1   -1   1   1  -1   1   1  1\n",
              "2    1  -1   1  -1   1  -1  0\n",
              "3    1   1   1  -1   1   1  0\n",
              "4   -1   1  -1   1   1   1  1\n",
              "5    1  -1   1   1  -1   1  1\n",
              "6   -1  -1   1   1   1   1  1\n",
              "7   -1   1   1   1  -1  -1  0\n",
              "8   -1  -1  -1  -1   1  -1  0\n",
              "9   -1  -1  -1  -1   1  -1  0\n",
              "10  -1   1   1   1  -1   1  1\n",
              "11   1   1   1  -1   1  -1  1\n",
              "12   1  -1   1  -1  -1   1  0\n",
              "13   1  -1   1  -1  -1  -1  1\n",
              "14   1   1  -1   1   1  -1  1"
            ]
          },
          "metadata": {},
          "execution_count": 6
        }
      ]
    },
    {
      "cell_type": "markdown",
      "metadata": {
        "id": "dTbl0lgCbx01"
      },
      "source": [
        "Generating the datasets, one of size 2000 i.e. 2000 vectors of length 64, each a sequence of 1's and -1's, along with their corresponding labels for parity.\n",
        "The other is of size 5000."
      ]
    },
    {
      "cell_type": "code",
      "metadata": {
        "id": "Juqk5YPNspqO"
      },
      "source": [
        "# generating data on which we will test our self-made NN\n",
        "test_data_2k = data_gen(2000) # each vector is of len 64\n",
        "test_data_5k = data_gen(5000) # each vector is of len 64"
      ],
      "execution_count": null,
      "outputs": []
    },
    {
      "cell_type": "markdown",
      "metadata": {
        "id": "uoSWOdsgcEqe"
      },
      "source": [
        "Here, we separate the parity labels from the data of vectors."
      ]
    },
    {
      "cell_type": "code",
      "metadata": {
        "id": "azmZCkbk3zrV"
      },
      "source": [
        "# splitting the generated data\n",
        "input_2k = test_data_2k[['x'+str(i) for i in range(64)]]\n",
        "input_5k = test_data_5k[['x'+str(i) for i in range(64)]]\n",
        "output_2k = test_data_2k['y']\n",
        "output_5k = test_data_5k['y']"
      ],
      "execution_count": null,
      "outputs": []
    },
    {
      "cell_type": "markdown",
      "metadata": {
        "id": "2T5g3miHcM_-"
      },
      "source": [
        "Structure of our neural network:"
      ]
    },
    {
      "cell_type": "code",
      "metadata": {
        "id": "xZJDvQeEsp3L"
      },
      "source": [
        "\"\"\"\n",
        "NN as follows: (2 hidden layers; {input_len} nodes in first hidden layer then 1 node in next hidden layer)\n",
        "\n",
        "(assume 2 inputs)\n",
        "\n",
        "[ input layer]       [bias = 0]                              [bias = 0]\n",
        "\n",
        "{inp1}             --- (weight=1) ---> (node1; activation f1) ---> (node3; weight=1) \\\n",
        "                                                                                      ---> (node3;activation f2) ---> (output)\n",
        "{inp2}             --- (weight=1) ---> (node2; activation f1) ---> (node3; weight=1) /\n",
        "\n",
        "activations:\n",
        "f1 input(x) ={ int( x == 1 ) }\n",
        "f2 input([x1,...xn]) ={ int(sum(xi)%2 == 0) }\n",
        "\"\"\"\n"
      ],
      "execution_count": null,
      "outputs": []
    },
    {
      "cell_type": "markdown",
      "metadata": {
        "id": "8xslXaZacQSE"
      },
      "source": [
        "Activation functions:"
      ]
    },
    {
      "cell_type": "code",
      "metadata": {
        "id": "b3vWqdKsyfMU"
      },
      "source": [
        "# Building the activation functions\n",
        "def f1(x):\n",
        "  \"\"\"\n",
        "  input: int\n",
        "  output: int\n",
        "  \n",
        "  return 1 if x is 1\n",
        "  return 0 else\n",
        "  \"\"\"\n",
        "  return int(x == 1)\n",
        "\n",
        "def f2(arr):\n",
        "  \"\"\"\n",
        "  input: np.array\n",
        "  output: int\n",
        "\n",
        "  return 1 if sum(arr) is even\n",
        "  return 0 else\n",
        "  \"\"\"\n",
        "  return int(arr.sum() %2 == 0)"
      ],
      "execution_count": null,
      "outputs": []
    },
    {
      "cell_type": "markdown",
      "metadata": {
        "id": "LYu1xhW_cS4D"
      },
      "source": [
        "Constructing the neural network:"
      ]
    },
    {
      "cell_type": "code",
      "metadata": {
        "id": "MzisIzPi0b6A"
      },
      "source": [
        "# under construction\n",
        "def predefined_NN_gen(inp_size=64):\n",
        "  \"\"\"\n",
        "  input: int\n",
        "  output: object of <class NN>\n",
        "\n",
        "  generates a parity finding neural network\n",
        "  consisting of 2 hidden layers and input layer\n",
        "  contains {inp_size} nodes\n",
        "  \"\"\"\n",
        "  class NN():\n",
        "    def __init__(self):\n",
        "      self.inp_size = inp_size\n",
        "      self.weights1 = np.eye(inp_size)\n",
        "      self.f1 = f1\n",
        "      self.weights2 = np.ones(inp_size)\n",
        "      self.f2 = f2\n",
        "      return \n",
        "\n",
        "    def feedforward(self,row):\n",
        "      # layer 1 computations\n",
        "      o1 = np.zeros(self.inp_size)\n",
        "\n",
        "      for i in range(self.inp_size):\n",
        "        node_i_input = np.dot(row, self.weights1[i,:])\n",
        "        node_i_activation = self.f1(node_i_input)\n",
        "        o1[i] = node_i_activation\n",
        "\n",
        "      # layer 1 returns values into o1\n",
        "\n",
        "      # layer 2 computations\n",
        "      return self.f2(np.dot(self.weights2, o1))\n",
        "    \n",
        "\n",
        "    def predict(self, df):\n",
        "      inputs = df.to_numpy()\n",
        "      outputs = np.zeros(inputs.shape[0])\n",
        "      for i in range(inputs.shape[0]):\n",
        "        outputs[i] = self.feedforward(inputs[i,:])\n",
        "      \n",
        "      return outputs\n",
        "\n",
        "  return NN()"
      ],
      "execution_count": null,
      "outputs": []
    },
    {
      "cell_type": "code",
      "metadata": {
        "id": "qqJCsYHf3tV4"
      },
      "source": [
        "nn = predefined_NN_gen()"
      ],
      "execution_count": null,
      "outputs": []
    },
    {
      "cell_type": "markdown",
      "metadata": {
        "id": "4Ul2hRvncYGo"
      },
      "source": [
        "Accuracy scores on the 2k and 5k datasets:"
      ]
    },
    {
      "cell_type": "code",
      "metadata": {
        "colab": {
          "base_uri": "https://localhost:8080/"
        },
        "id": "7ylF_JYy3wei",
        "outputId": "03395113-8908-4301-dd71-ff2c4eb6c15a"
      },
      "source": [
        "# accuracy on 2k dataset\n",
        "np.mean(nn.predict(input_2k) == output_2k)"
      ],
      "execution_count": null,
      "outputs": [
        {
          "output_type": "execute_result",
          "data": {
            "text/plain": [
              "1.0"
            ]
          },
          "metadata": {},
          "execution_count": 39
        }
      ]
    },
    {
      "cell_type": "code",
      "metadata": {
        "colab": {
          "base_uri": "https://localhost:8080/"
        },
        "id": "5vmXNXn69sdt",
        "outputId": "bff327b1-295b-4b6b-f656-e9cc621bc9c7"
      },
      "source": [
        "# accuracy on 5k dataset\n",
        "np.mean(nn.predict(input_5k) == output_5k)"
      ],
      "execution_count": null,
      "outputs": [
        {
          "output_type": "execute_result",
          "data": {
            "text/plain": [
              "1.0"
            ]
          },
          "metadata": {},
          "execution_count": 40
        }
      ]
    },
    {
      "cell_type": "markdown",
      "metadata": {
        "id": "ZMh2LNWVczeH"
      },
      "source": [
        "We have 100% accuracy on our predictions\n",
        "In fact, our self made neural network will always produce the correct answer."
      ]
    }
  ]
}